{
 "cells": [
  {
   "cell_type": "code",
   "execution_count": 6,
   "metadata": {},
   "outputs": [
    {
     "data": {
      "text/plain": [
       "5"
      ]
     },
     "execution_count": 6,
     "metadata": {},
     "output_type": "execute_result"
    }
   ],
   "source": [
    "def binary_search(nums, target):\n",
    "\n",
    "    left, right = 0, len(nums) - 1\n",
    "\n",
    "    while left <= right:\n",
    "\n",
    "        mid = (left+right) // 2\n",
    "        if nums[mid] == target:\n",
    "            return mid\n",
    "        elif n ums[mid] < target:\n",
    "            left = mid + 1\n",
    "        else:\n",
    "            right = mid - 1\n",
    "        \n",
    "    return -1\n",
    "\n",
    "\n",
    "nums = [1, 2, 3, 4, 5, 6, 7, 8, 9]\n",
    "binary_search(nums, 6)"
   ]
  },
  {
   "cell_type": "markdown",
   "metadata": {},
   "source": [
    "---"
   ]
  },
  {
   "cell_type": "markdown",
   "metadata": {},
   "source": [
    "_Search in rotated array_"
   ]
  },
  {
   "cell_type": "code",
   "execution_count": 3,
   "metadata": {},
   "outputs": [
    {
     "data": {
      "text/plain": [
       "-1"
      ]
     },
     "execution_count": 3,
     "metadata": {},
     "output_type": "execute_result"
    }
   ],
   "source": [
    "def search(nums, target):\n",
    "\n",
    "    left, right = 0, len(nums) - 1\n",
    "\n",
    "    while left <= right:\n",
    "\n",
    "        mid = (left+right) // 2\n",
    "        if nums[mid] == target:\n",
    "            return mid\n",
    "        \n",
    "        \n",
    "        elif nums[left] <= nums[mid]:\n",
    "            \n",
    "            if nums[left] <= target < nums[mid]:\n",
    "                right = mid - 1\n",
    "            else:\n",
    "                left = mid + 1\n",
    "\n",
    "        else:\n",
    "            \n",
    "            if nums[mid] < target <= nums[right]:\n",
    "                left = mid + 1\n",
    "            else:\n",
    "                right = mid - 1\n",
    "    \n",
    "    return -1\n",
    "\n",
    "\n",
    "nums = [4,5,6,7,0,1,2]\n",
    "search(nums, 3)"
   ]
  },
  {
   "cell_type": "markdown",
   "metadata": {},
   "source": [
    "_34. Find First and Last Position of Element in Sorted Array_"
   ]
  },
  {
   "cell_type": "code",
   "execution_count": 6,
   "metadata": {},
   "outputs": [
    {
     "name": "stdout",
     "output_type": "stream",
     "text": [
      "[3, 4]\n"
     ]
    }
   ],
   "source": [
    "def position(nums, _target):\n",
    "\n",
    "    def search(target):\n",
    "        l, r = 0, len(nums)\n",
    "\n",
    "        while l < r:\n",
    "            mid = (l+r) // 2\n",
    "\n",
    "            if nums[mid] < target:\n",
    "                l = mid + 1\n",
    "            else:\n",
    "                r = mid\n",
    "        \n",
    "        return l\n",
    "        \n",
    "    lo = search(_target)\n",
    "    hi = search(_target+1)-1\n",
    "\n",
    "    if lo <= hi:\n",
    "        return [lo, hi]\n",
    "    return [-1, -1]\n",
    "\n",
    "\n",
    "nums = [5,7,7,8,8,10]\n",
    "target = 8\n",
    "print(position(nums, target))"
   ]
  },
  {
   "cell_type": "code",
   "execution_count": null,
   "metadata": {},
   "outputs": [],
   "source": []
  }
 ],
 "metadata": {
  "kernelspec": {
   "display_name": "transformers",
   "language": "python",
   "name": "python3"
  },
  "language_info": {
   "codemirror_mode": {
    "name": "ipython",
    "version": 3
   },
   "file_extension": ".py",
   "mimetype": "text/x-python",
   "name": "python",
   "nbconvert_exporter": "python",
   "pygments_lexer": "ipython3",
   "version": "3.9.9"
  }
 },
 "nbformat": 4,
 "nbformat_minor": 2
}
