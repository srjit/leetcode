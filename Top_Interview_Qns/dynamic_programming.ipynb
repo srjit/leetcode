{
 "cells": [
  {
   "cell_type": "markdown",
   "metadata": {},
   "source": [
    "_Dynamic Programming_"
   ]
  },
  {
   "cell_type": "code",
   "execution_count": 2,
   "metadata": {},
   "outputs": [],
   "source": [
    "from typing import List, Optional"
   ]
  },
  {
   "cell_type": "markdown",
   "metadata": {},
   "source": [
    "_Coin Change_"
   ]
  },
  {
   "cell_type": "code",
   "execution_count": 3,
   "metadata": {},
   "outputs": [],
   "source": [
    "# coins = [1,2,5], amount = 11\n",
    "\n",
    "class Solution:\n",
    "    def coinChange(self, coins: List[int], amount: int) -> int:\n",
    "\n",
    "        dp = [amount + 1] * (amount + 1)\n",
    "\n",
    "        dp[0] = 0\n",
    "        for amount in range(amount+1):\n",
    "            for coin in coins:\n",
    "                if coin <= amount and (amount - coin >= 0) :\n",
    "                    dp[amount] = min(dp[amount], 1 + dp[amount - coin])\n",
    "                \n",
    "        return dp[amount] if dp[amount] < amount+ 1 else - 1"
   ]
  },
  {
   "cell_type": "markdown",
   "metadata": {},
   "source": [
    "_Longest Increasing Subsequence_"
   ]
  },
  {
   "cell_type": "code",
   "execution_count": 7,
   "metadata": {},
   "outputs": [
    {
     "data": {
      "text/plain": [
       "(4, [2, 2, 4, 3, 3, 2, 1, 1])"
      ]
     },
     "execution_count": 7,
     "metadata": {},
     "output_type": "execute_result"
    }
   ],
   "source": [
    "\n",
    "class Solution:\n",
    "\n",
    "    def lengthOfLIS(self, nums: List[int]):\n",
    "\n",
    "        dp = [1] * len(nums)\n",
    "        for i in range(len(nums)-1, -1, -1):\n",
    "            for j in range(i+1, len(nums)):\n",
    "                if nums[i] < nums[j]:\n",
    "                    dp[i] = max(1+dp[j], dp[i])\n",
    "\n",
    "        return max(dp), dp\n",
    "    \n",
    "Solution().lengthOfLIS(nums = [10,9,2,5,3,7,101,18])"
   ]
  },
  {
   "cell_type": "markdown",
   "metadata": {},
   "source": [
    "_Longest Common Subsequence_"
   ]
  },
  {
   "cell_type": "code",
   "execution_count": null,
   "metadata": {},
   "outputs": [],
   "source": [
    "class Solution:\n",
    "\n",
    "    def longestCommonSubsequence(text1, text2):\n",
    "\n",
    "        dp = [[0 for j in range(len(text2)+1)] for i in range(len(text1)+1)]\n",
    "\n",
    "        for i in range(len(text1)-1, -1, -1):\n",
    "            for j in range(len(text2)-1, -1, -1):\n",
    "\n",
    "                if text1[i] == text2[j]:\n",
    "                    dp[i][j] = 1 + dp[i+1][j+1]\n",
    "                else:\n",
    "                    dp[i][j] = max(dp[i][j+1], dp[i+1][j])\n",
    "\n",
    "        return dp[0][0]"
   ]
  },
  {
   "cell_type": "markdown",
   "metadata": {},
   "source": [
    "_Word Break_"
   ]
  },
  {
   "cell_type": "code",
   "execution_count": 8,
   "metadata": {},
   "outputs": [],
   "source": [
    "class Solution:\n",
    "\n",
    "    def wordBreak(self, s: str, wordDict: List[str]) -> bool:\n",
    "\n",
    "        dp = [False] * (len(s)+1)\n",
    "        dp[len(s)] = True\n",
    "\n",
    "\n",
    "        for i in range(len(s)-1, -1, -1):\n",
    "\n",
    "            for w in wordDict:\n",
    "\n",
    "                if ((len(w) + i) <= len(s)) and (s[i:i+len(w)] == w):\n",
    "                    dp[i] = dp[i+len(w)]\n",
    "\n",
    "                if dp[i]:\n",
    "                    break\n",
    "        return dp[0]"
   ]
  },
  {
   "cell_type": "markdown",
   "metadata": {},
   "source": [
    "_House Robber_"
   ]
  },
  {
   "cell_type": "code",
   "execution_count": 10,
   "metadata": {},
   "outputs": [],
   "source": [
    "class Solution:\n",
    "\n",
    "    def rob(self, nums: List[int]) -> int:\n",
    "\n",
    "        # rob2 includes the house \n",
    "        # just before the current house\n",
    "\n",
    "        # rob1 includes the house one down \n",
    "        # from current house\n",
    "\n",
    "        rob1, rob2 = 0, 0\n",
    "        for n in nums:\n",
    "            tmp = max(n+rob1, rob2)\n",
    "            rob1 = rob2\n",
    "            rob2 = tmp\n",
    "\n",
    "        return rob2"
   ]
  },
  {
   "cell_type": "markdown",
   "metadata": {},
   "source": [
    "_Combination Sum_\n",
    "\n",
    "Notes: Combination Sum is similar to Coin Change"
   ]
  },
  {
   "cell_type": "code",
   "execution_count": null,
   "metadata": {},
   "outputs": [],
   "source": [
    "class Solution:\n",
    "\n",
    "    def combinationSum4(self, nums: List[int], target: int) -> int:\n",
    "\n",
    "        dp = {0: 1}\n",
    "\n",
    "        for total in range(1, target+1):\n",
    "\n",
    "            dp[total] = 0\n",
    "            for num in nums:\n",
    "                dp[total] += dp.get(total-num, 0)\n",
    "\n",
    "        return dp[target]\n",
    "\n",
    "\n",
    "\n",
    "\n",
    "\n"
   ]
  }
 ],
 "metadata": {
  "kernelspec": {
   "display_name": "transformers",
   "language": "python",
   "name": "python3"
  },
  "language_info": {
   "codemirror_mode": {
    "name": "ipython",
    "version": 3
   },
   "file_extension": ".py",
   "mimetype": "text/x-python",
   "name": "python",
   "nbconvert_exporter": "python",
   "pygments_lexer": "ipython3",
   "version": "3.9.9"
  }
 },
 "nbformat": 4,
 "nbformat_minor": 2
}
