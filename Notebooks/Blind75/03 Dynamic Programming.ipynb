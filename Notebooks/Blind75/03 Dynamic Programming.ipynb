{
 "cells": [
  {
   "cell_type": "markdown",
   "id": "308c47db-e875-4ebf-97b8-cdeb2d14595e",
   "metadata": {},
   "source": [
    "### 322. Coin Change\n",
    "----"
   ]
  },
  {
   "cell_type": "code",
   "execution_count": null,
   "id": "96a46540-29e4-4800-8923-78b0a430d53f",
   "metadata": {},
   "outputs": [],
   "source": [
    "class Solution:\n",
    "\n",
    "    def coinChange(self, coins: List[int], amount: int) -> int:\n",
    "\n",
    "        dp = [amount+1] * amount+1\n",
    "\n",
    "        dp[0] = 0\n",
    "        for amt in range(amount+1):\n",
    "            for coin in coins:\n",
    "                if amt - coin >= 0:\n",
    "                    dp[amt] = min(1+ dp[amt - coin], dp[amt])\n",
    "\n",
    "        return dp[amount] if dp[amount] != amount + 1 else -1\n",
    "                "
   ]
  },
  {
   "cell_type": "markdown",
   "id": "c5aba74a-b518-4a7c-aeb3-06091dac18ad",
   "metadata": {},
   "source": [
    "### 91. Decode ways\n",
    "---\n",
    "\n",
    "\n",
    "https://leetcode.com/problems/decode-ways/description/\n"
   ]
  },
  {
   "cell_type": "code",
   "execution_count": null,
   "id": "81501e6f-4859-45fc-b61a-e20f8e803177",
   "metadata": {},
   "outputs": [],
   "source": [
    "class Solution:\n",
    "\n",
    "    def numDecodings(self, s: str) -> int:\n",
    "\n",
    "        dp = {len(s): 1}\n",
    "\n",
    "        for i in range(len(s)-1, -1, -1):\n",
    "\n",
    "            if s[i] == '0':\n",
    "                dp[i] = 0\n",
    "            else:\n",
    "                dp[i] = dp[i+1]\n",
    "\n",
    "            if (i+1 < len(s)) and ((s[i] == 1) or (s[i] == 2 and s[i+1] in '0123456')):\n",
    "                dp[i] += dp[i+2]\n",
    "\n",
    "            return dp[0]\n",
    "            \n",
    "\n",
    "    "
   ]
  }
 ],
 "metadata": {
  "kernelspec": {
   "display_name": "Python 3 (ipykernel)",
   "language": "python",
   "name": "python3"
  },
  "language_info": {
   "codemirror_mode": {
    "name": "ipython",
    "version": 3
   },
   "file_extension": ".py",
   "mimetype": "text/x-python",
   "name": "python",
   "nbconvert_exporter": "python",
   "pygments_lexer": "ipython3",
   "version": "3.9.9"
  }
 },
 "nbformat": 4,
 "nbformat_minor": 5
}
