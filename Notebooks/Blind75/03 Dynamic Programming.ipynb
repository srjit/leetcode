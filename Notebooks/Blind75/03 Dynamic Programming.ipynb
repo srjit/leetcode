{
 "cells": [
  {
   "cell_type": "code",
   "execution_count": 2,
   "id": "37c126ed-4a55-401a-856a-f1758a42f72a",
   "metadata": {},
   "outputs": [],
   "source": [
    "from typing import List"
   ]
  },
  {
   "cell_type": "markdown",
   "id": "308c47db-e875-4ebf-97b8-cdeb2d14595e",
   "metadata": {},
   "source": [
    "### 322. Coin Change\n",
    "----"
   ]
  },
  {
   "cell_type": "code",
   "execution_count": null,
   "id": "96a46540-29e4-4800-8923-78b0a430d53f",
   "metadata": {},
   "outputs": [],
   "source": [
    "class Solution:\n",
    "\n",
    "    def coinChange(self, coins: List[int], amount: int) -> int:\n",
    "\n",
    "        dp = [amount+1] * amount+1\n",
    "\n",
    "        dp[0] = 0\n",
    "        for amt in range(amount+1):\n",
    "            for coin in coins:\n",
    "                if amt - coin >= 0:\n",
    "                    dp[amt] = min(1+ dp[amt - coin], dp[amt])\n",
    "\n",
    "        return dp[amount] if dp[amount] != amount + 1 else -1\n",
    "                "
   ]
  },
  {
   "cell_type": "markdown",
   "id": "c5aba74a-b518-4a7c-aeb3-06091dac18ad",
   "metadata": {},
   "source": [
    "### 91. Decode ways\n",
    "---\n",
    "\n",
    "\n",
    "https://leetcode.com/problems/decode-ways/description/\n"
   ]
  },
  {
   "cell_type": "code",
   "execution_count": null,
   "id": "81501e6f-4859-45fc-b61a-e20f8e803177",
   "metadata": {},
   "outputs": [],
   "source": [
    "class Solution:\n",
    "\n",
    "    def numDecodings(self, s: str) -> int:\n",
    "\n",
    "        dp = {len(s): 1}\n",
    "\n",
    "        for i in range(len(s)-1, -1, -1):\n",
    "\n",
    "            if s[i] == '0':\n",
    "                dp[i] = 0\n",
    "            else:\n",
    "                dp[i] = dp[i+1]\n",
    "\n",
    "            if (i+1 < len(s)) and ((s[i] == 1) or (s[i] == 2 and s[i+1] in '0123456')):\n",
    "                dp[i] += dp[i+2]\n",
    "\n",
    "            return dp[0]"
   ]
  },
  {
   "cell_type": "markdown",
   "id": "f97f1a96-c8a5-44b4-9554-5fe1221d1bf7",
   "metadata": {},
   "source": [
    "### 139. Word Break\n",
    "---"
   ]
  },
  {
   "cell_type": "code",
   "execution_count": null,
   "id": "c769ac9a-233d-4ac9-b091-8f641e2a52a6",
   "metadata": {},
   "outputs": [],
   "source": [
    "class Solution:\n",
    "\n",
    "    def wordBreak(self, s: str, wordDict: List[str]) -> bool:\n",
    "\n",
    "        dp = [False] * (len(s)+1)\n",
    "        dp[len(s)] = True\n",
    "\n",
    "        for i in range(len(s)-1, -1, -1):\n",
    "            for w in wordDict:\n",
    "\n",
    "                if (i+len(w)) <= len(s)  and s[i:i+len(w)] == w:\n",
    "                    # carry over True from the previously matched words group\n",
    "                    dp[i] = dp[i + len(w)]\n",
    "                if dp[i]:\n",
    "                    break\n",
    "\n",
    "        return dp[0]"
   ]
  },
  {
   "cell_type": "markdown",
   "id": "8994b967-2dda-463d-bb71-afa79918441f",
   "metadata": {},
   "source": [
    "### 377. Combination Sum 4\n",
    "---"
   ]
  },
  {
   "cell_type": "code",
   "execution_count": 3,
   "id": "c62a5988-2e97-4c42-a7a3-5762770edc2a",
   "metadata": {},
   "outputs": [],
   "source": [
    "class Solution:\n",
    "\n",
    "    def combinationSum4(self, nums: List[int], target: int) -> int:\n",
    "\n",
    "        dp = {0: 1}\n",
    "\n",
    "        for total in range(1, target+1):\n",
    "\n",
    "            dp[total] = 0\n",
    "            for n in nums:\n",
    "                dp[total] += dp.get(total-n, 0)\n",
    "            \n",
    "        return dp[target]"
   ]
  },
  {
   "cell_type": "markdown",
   "id": "e0ce8ce0-ff90-4289-ade1-91020fb701eb",
   "metadata": {},
   "source": [
    "### 198. House Robber\n",
    "---"
   ]
  },
  {
   "cell_type": "code",
   "execution_count": 9,
   "id": "ee328e5e-5376-4be8-a0eb-a780b48dcc19",
   "metadata": {},
   "outputs": [
    {
     "data": {
      "text/plain": [
       "4"
      ]
     },
     "execution_count": 9,
     "metadata": {},
     "output_type": "execute_result"
    }
   ],
   "source": [
    "def rob(nums: List[int]) -> int:\n",
    "\n",
    "        rob1, rob2 = 0, 0\n",
    "\n",
    "        for n in nums:\n",
    "            tmp = max(n+rob1, rob2)\n",
    "            rob1 = rob2\n",
    "            rob2 = tmp\n",
    "\n",
    "        return rob2\n",
    "\n",
    "\n",
    "rob([1,2,3,1])"
   ]
  },
  {
   "cell_type": "code",
   "execution_count": null,
   "id": "b4bbc2d4-b4af-4773-9606-45be85a009c3",
   "metadata": {},
   "outputs": [],
   "source": []
  }
 ],
 "metadata": {
  "kernelspec": {
   "display_name": "Python 3 (ipykernel)",
   "language": "python",
   "name": "python3"
  },
  "language_info": {
   "codemirror_mode": {
    "name": "ipython",
    "version": 3
   },
   "file_extension": ".py",
   "mimetype": "text/x-python",
   "name": "python",
   "nbconvert_exporter": "python",
   "pygments_lexer": "ipython3",
   "version": "3.9.9"
  }
 },
 "nbformat": 4,
 "nbformat_minor": 5
}
