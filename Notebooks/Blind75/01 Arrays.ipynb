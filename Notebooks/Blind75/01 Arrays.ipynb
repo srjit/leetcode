{
 "cells": [
  {
   "cell_type": "code",
   "execution_count": 1,
   "id": "0fded3b6-efd8-4421-afd3-debae28ca2fc",
   "metadata": {},
   "outputs": [],
   "source": [
    "from typing import List"
   ]
  },
  {
   "cell_type": "markdown",
   "id": "153c00b8-2d9a-4b5a-9c1e-5ada669fa596",
   "metadata": {},
   "source": [
    "### 1. Two Sum\n",
    "---"
   ]
  },
  {
   "cell_type": "markdown",
   "id": "e26d9032-d058-416f-86c1-5b1dc20b53f5",
   "metadata": {},
   "source": [
    "__Given an array of integers nums and an integer target, return indices of the two numbers such that they add up to target.__"
   ]
  },
  {
   "cell_type": "code",
   "execution_count": 5,
   "id": "d055c9f5-1eb5-4069-b8cc-e040813975ee",
   "metadata": {},
   "outputs": [],
   "source": [
    "class Solution:\n",
    "    \n",
    "    def twoSum(self, nums: List[int], target: int) -> List[int]:\n",
    "\n",
    "        complement = {}\n",
    "        for i, num in enumerate(nums):\n",
    "\n",
    "            if num in complement:\n",
    "                return [i, complement[num]]\n",
    "                \n",
    "            _tmp = target - num\n",
    "            complement[_tmp] = i"
   ]
  },
  {
   "cell_type": "markdown",
   "id": "5b433592-5da4-4873-98ac-56eb13a2c1d6",
   "metadata": {},
   "source": [
    "### 2. Best Time to Buy and Sell Stock\n",
    "----"
   ]
  },
  {
   "cell_type": "code",
   "execution_count": 7,
   "id": "eaac441c-eb59-4879-a5c0-7c55afd25680",
   "metadata": {},
   "outputs": [
    {
     "name": "stdout",
     "output_type": "stream",
     "text": [
      "4\n"
     ]
    }
   ],
   "source": [
    "class Solution:\n",
    "    \n",
    "    def maxProfit(self, prices: List[int]) -> int:\n",
    "        \n",
    "        maxProfit = 0\n",
    "        minPurchase = prices[0]\n",
    "\n",
    "        for i in range(len(prices)):\n",
    "\n",
    "            #(profit is computed with the minPurchase until previous i)\n",
    "            maxProfit = max(maxProfit, prices[i]-minPurchase)\n",
    "\n",
    "            # re-calculate min purchase\n",
    "            minPurchase = min(minPurchase, prices[i])\n",
    "\n",
    "        return maxProfit\n",
    "\n",
    "print(Solution().maxProfit([7,1,5,3,1]))"
   ]
  },
  {
   "cell_type": "markdown",
   "id": "a1f47dc7-1498-49c5-bfc7-71db4449131c",
   "metadata": {},
   "source": [
    "### 217. Contains Duplicate\n",
    "---"
   ]
  },
  {
   "cell_type": "code",
   "execution_count": 8,
   "id": "1b47d103-99dc-4e1e-9c55-792e29f89002",
   "metadata": {},
   "outputs": [],
   "source": [
    "class Solution:\n",
    "\n",
    "    def containsDuplicate(self, nums: List[int]) -> bool:\n",
    "        \n",
    "        return not len(set(nums)) == len(nums)"
   ]
  },
  {
   "cell_type": "markdown",
   "id": "68da6a73-28c5-4c2e-b142-6cfdf6aa3bb3",
   "metadata": {},
   "source": [
    "### 238. Product of Array Except Self\n",
    "---"
   ]
  },
  {
   "cell_type": "code",
   "execution_count": 13,
   "id": "98f22474-7846-4e84-9f57-948a28c4ab70",
   "metadata": {},
   "outputs": [
    {
     "data": {
      "text/plain": [
       "[24, 12, 8, 6]"
      ]
     },
     "execution_count": 13,
     "metadata": {},
     "output_type": "execute_result"
    }
   ],
   "source": [
    "class Solution:\n",
    "    \n",
    "    def productExceptSelf(self, nums: List[int]) -> List[int]:\n",
    "\n",
    "        _p = nums[0]\n",
    "        pre_product = [1]\n",
    "        post_product = [1]\n",
    "        for i in range(1, len(nums)):\n",
    "            pre_product.append(pre_product[-1] * nums[i-1])\n",
    "\n",
    "        for i in range(len(nums)-2, -1, -1):\n",
    "            post_product.append(post_product[-1] * nums[i+1])\n",
    "\n",
    "        op = []\n",
    "        for i in range(len(nums)):\n",
    "            op.append(pre_product[i] * post_product[len(nums)-i-1])\n",
    "\n",
    "        return op\n",
    "            \n",
    "\n",
    "        # print(pre_product)\n",
    "        # print(post_product)\n",
    "            \n",
    "\n",
    "Solution().productExceptSelf([1,2,3,4])"
   ]
  },
  {
   "cell_type": "markdown",
   "id": "0c12355e-2487-45f5-aad2-11a9f5d541ce",
   "metadata": {},
   "source": [
    "### 53. Maximum Subarray\n",
    "----"
   ]
  },
  {
   "cell_type": "code",
   "execution_count": 14,
   "id": "7badc95d-5ce5-4d45-ba10-4b147927eb0f",
   "metadata": {},
   "outputs": [],
   "source": [
    "class Solution:\n",
    "\n",
    "    def maxSubArray(self, nums: List[int]) -> int:\n",
    "\n",
    "        max_sum = nums[0]\n",
    "        max_sum_until_current = nums[0]\n",
    "        \n",
    "        for i in range(1, len(nums)):\n",
    "\n",
    "            max_sum_until_current = max(max_sum_until_current+nums[i], nums[i])\n",
    "            max_sum = max_sum if max_sum > max_sum_until_current else max_sum_until_current\n",
    "\n",
    "        return max_sum"
   ]
  },
  {
   "cell_type": "markdown",
   "id": "a4720e85-432f-4160-b151-02e1c455af85",
   "metadata": {},
   "source": [
    "### 152. Maximum Product Subarray\n",
    "---"
   ]
  },
  {
   "cell_type": "code",
   "execution_count": 15,
   "id": "83aa570d-b6a5-4e2c-b91f-da2b3c3271a8",
   "metadata": {},
   "outputs": [],
   "source": [
    "class Solution:\n",
    "\n",
    "    def maxProduct(self, nums: List[int]) -> int:\n",
    "\n",
    "        max_prod_until_current = nums[0]\n",
    "        min_prod_until_current = nums[0]\n",
    "\n",
    "        max_product = nums[0]\n",
    "\n",
    "        for i in range(1, len(nums)):\n",
    "\n",
    "            max_prod_until_current = max(max_prod_until_current * nums[i], \n",
    "                                         min_prod_until_current[i] * nums[i], \n",
    "                                         nums[i])\n",
    "            min_prod_until_current = max(min_prod_until_current * nums[i], \n",
    "                                         min_prod_until_current[i] * nums[i], \n",
    "                                         nums[i])\n",
    "\n",
    "            max_product = max(max_product, \n",
    "                              max_prod_until_current)\n",
    "\n",
    "        return max_product"
   ]
  },
  {
   "cell_type": "markdown",
   "id": "7e6e5941-b513-4653-9024-dbffc1f5a902",
   "metadata": {},
   "source": [
    "### 153. Find Minimum in Rotated Sorted Array\n",
    "----"
   ]
  },
  {
   "cell_type": "code",
   "execution_count": 16,
   "id": "92c23bcb-114d-4468-8bc6-040d5bc4e092",
   "metadata": {},
   "outputs": [],
   "source": [
    "class Solution:\n",
    "\n",
    "    def findMin(self, nums: List[int]) -> int:\n",
    "\n",
    "        l, r = 0, len(nums)-1\n",
    "        while l < r:\n",
    "            m = (l+r)//2\n",
    "            # middle > right\n",
    "            if nums[m] > nums[r]:\n",
    "                l = m + 1\n",
    "            else:\n",
    "                r = m\n",
    "                \n",
    "        return nums[l]"
   ]
  },
  {
   "cell_type": "markdown",
   "id": "1424b636-3914-4a7a-90d9-631a5008ad37",
   "metadata": {},
   "source": [
    "### 15. 3Sum\n",
    "---"
   ]
  },
  {
   "cell_type": "code",
   "execution_count": 22,
   "id": "4e5f4d1c-22d0-409b-8956-a9a5862eb33f",
   "metadata": {},
   "outputs": [
    {
     "data": {
      "text/plain": [
       "9"
      ]
     },
     "execution_count": 22,
     "metadata": {},
     "output_type": "execute_result"
    }
   ],
   "source": [
    "from typing import List\n",
    "\n",
    "def threeSum(nums: List[int]) -> List[List[int]]:\n",
    "\n",
    "        neg, pos, zeros = [], [], []\n",
    "        op  = []\n",
    "\n",
    "        for i in nums:\n",
    "            if i == 0:\n",
    "                zeros.append(i)\n",
    "            elif i < 0:\n",
    "                neg.append(i)\n",
    "            else:\n",
    "                pos.append(i)\n",
    "\n",
    "        if len(zeros) >= 3:\n",
    "            op.append((0,0,0))\n",
    "        \n",
    "        if len(zeros) > 0:\n",
    "            for n in neg:\n",
    "                if -n in pos and ((-n, n, 0) or (n, -n, 0)) not in op:\n",
    "                    op.append((-n, n, 0))\n",
    "\n",
    "        for _s1, _s2 in [(neg, pos), (pos, neg)]:\n",
    "            for i in range(len(_s1)):\n",
    "                for j in range(i+1, len(_s1)):\n",
    "                    sum1 = _s1[i] + _s1[j]\n",
    "                    if -sum1 in _s2 and ((_s1[i], _s1[j], -sum1)\n",
    "                                         or (_s1[j], _s1[i], -sum1)\n",
    "                                         or ( _s1[j], -sum1, _s1[i])\n",
    "                                         or ( _s1[i], -sum1, _s1[j])\n",
    "                                         or (-sum1, _s1[i], _s1[j]) \n",
    "                                         or (-sum1, _s1[j], _s1[i])  not in op):\n",
    "                        op.append((_s1[i], _s1[j], -sum1))\n",
    "                        \n",
    "        return op\n",
    "    \n",
    "len(threeSum([-1,0,1,2,-1,-4,-2,-3,3,0,4]))"
   ]
  },
  {
   "cell_type": "markdown",
   "id": "2a6cf2be-a540-4022-bd06-7d5dc4bfc0c9",
   "metadata": {},
   "source": [
    "### 11. Container With Most Water\n",
    "----"
   ]
  },
  {
   "cell_type": "code",
   "execution_count": null,
   "id": "c6580b99-8da0-4c1e-abd8-dc12774d537f",
   "metadata": {},
   "outputs": [],
   "source": [
    "class Solution:\n",
    "    \n",
    "    def maxArea(self, height: List[int]) -> int:\n",
    "\n",
    "       # start from ends\n",
    "        i, j = 0, len(height)\n",
    "        max_area = 0\n",
    "\n",
    "        while i < j:\n",
    "            _height = min(height[i], height[j])\n",
    "            _length = j - i\n",
    "\n",
    "            _area = _height * _length\n",
    "            max_area = max(_area, max_area)\n",
    "\n",
    "            if height[i] < height[j]:\n",
    "                i+=1\n",
    "            else:\n",
    "                j-=1\n",
    "\n",
    "        return max_area\n",
    "    \n",
    "        "
   ]
  }
 ],
 "metadata": {
  "kernelspec": {
   "display_name": "llms",
   "language": "python",
   "name": "llms"
  },
  "language_info": {
   "codemirror_mode": {
    "name": "ipython",
    "version": 3
   },
   "file_extension": ".py",
   "mimetype": "text/x-python",
   "name": "python",
   "nbconvert_exporter": "python",
   "pygments_lexer": "ipython3",
   "version": "3.10.10"
  }
 },
 "nbformat": 4,
 "nbformat_minor": 5
}
